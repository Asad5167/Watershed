{
 "cells": [
  {
   "cell_type": "code",
   "execution_count": null,
   "id": "9b1f1ea1-1ad1-40a8-af1d-6ecbccbea7f9",
   "metadata": {},
   "outputs": [],
   "source": [
    "#Import relevant libraries\n",
    "import pandas as pd\n",
    "import numpy as np\n",
    "import os\n",
    "import seaborn as sns\n",
    "import geopandas as gpd\n",
    "import matplotlib.pyplot as plt\n",
    "import matplotlib.colors as colors\n",
    "import rasterio\n",
    "from rasterio.merge import merge\n",
    "from rasterio.mask import mask\n",
    "from rasterio.warp import calculate_default_transform, reproject, Resampling\n",
    "from pysheds.grid import Grid"
   ]
  },
  {
   "cell_type": "code",
   "execution_count": null,
   "id": "699c6167-aae6-4846-890d-af2603eeb2bf",
   "metadata": {},
   "outputs": [],
   "source": [
    "path = ‘C:/Users/assad5167/Downloads/Final Project/BillFiles’\n",
    "os.chdir(path)"
   ]
  },
  {
   "cell_type": "code",
   "execution_count": null,
   "id": "b92708e4-78cc-47a1-8f4f-9e128a6f72d2",
   "metadata": {},
   "outputs": [],
   "source": [
    "#list of BIL files to read\n",
    "bil_files = [“n29_w094_larc_v2.bil”,” n29_w095_larc_v2.bil”,” n30_w094_larc_v2.bil”,” n30_w095_larc_v2.bil”]"
   ]
  },
  {
   "cell_type": "code",
   "execution_count": null,
   "id": "6498a626-2450-41e5-9380-ed7475c98a71",
   "metadata": {},
   "outputs": [],
   "source": [
    "#loop through each file \n",
    "for bil_file in bil_files:\n",
    " #open the file with rasterio\n",
    " with rasterio.open(bil_file) as src:\n",
    "  #print CRS information\n",
    "  print(f”File: {bil_file}”)\n",
    "  print(f”CRS: {src.crs}”)\n",
    "\n",
    "  print(f”Bounds: {src.bounds}”)\n",
    "  print(f”Resolution: {src.res}”)\n",
    "  print(“-” * 50)"
   ]
  },
  {
   "cell_type": "code",
   "execution_count": null,
   "id": "708547d0-05b3-412c-94f2-e0bda7dec5ac",
   "metadata": {},
   "outputs": [],
   "source": [
    "#Open each file and add to a list of datasets\n",
    "datasets = [rasterio.open(file) for file in bil_files]\n",
    "mosaic, out_transform = merge(datasets)\n",
    "#Get metadata from the first dataset to use for the outfile\n",
    "out_meta = datasets[0].meta.copy()\n",
    "out_meta.update({\n",
    " “driver”:”GTiff”,\n",
    " “height”:mosaic.shape[1],\n",
    " “width”:mosaic.shape[2],\n",
    " “transform”: out_transform\n",
    "})"
   ]
  },
  {
   "cell_type": "code",
   "execution_count": null,
   "id": "243cbde7-3c3f-4699-a53a-17a32dd1427d",
   "metadata": {},
   "outputs": [],
   "source": [
    "#Write a mosaic to a new file\n",
    "with rasterio.open(“mosaic_output.tif,”w”,**out_meta) as dest:\n",
    " dest.write(mosaic)\n",
    "#Close all datasets\n",
    "for dataset in datasets:\n",
    " dataset.close()\n",
    "#print open the rater file\n",
    "raster_path = “mosaic_output.tif”\n",
    "with rasterio.open(raster_path) as src:"
   ]
  },
  {
   "cell_type": "code",
   "execution_count": null,
   "id": "ea8d0ab3-05b2-4213-b2cb-84794b2e0fcc",
   "metadata": {},
   "outputs": [],
   "source": [
    "Read the data\n",
    " data = src.read(1) #Read the first band(adjust band index if needed)\n",
    " #Get the metadata\n",
    " metadata = src.profile\n",
    " print(‘Metadata:’, metadata)\n",
    "plt.figure(figsize=(10,8))\n",
    "plt.imshow(data, cmp=’magma’)  #change the colormap here\n",
    "plt.colorbar(label=’Pixel values’)\n",
    "plt.xlabel(‘longitude (WGS84)’)\n",
    "plt.ylabel(‘latitude (WGS84)’)\n",
    "plt.title(‘Raster Plot’)\n",
    "plt.show()\n"
   ]
  },
  {
   "cell_type": "code",
   "execution_count": null,
   "id": "1f689a88-42cd-4444-b532-cc00825a29f9",
   "metadata": {},
   "outputs": [],
   "source": [
    "#File paths\n",
    "geopackage_file = r” C:\\Users\\assad5167\\Downloads\\Final Project\\Tiff\\Port_ArthurWGS84.gpkg”\n",
    "dem_file = r” C:\\Users\\assad5167\\Downloads\\Final Project\\BillFiles\\mosaic_output2.tif”\n",
    "reprojected_dem_file = r” C:\\Users\\assad5167\\Downloads\\Final Project\\BillFiles\\reprojected_dem.tif”\n"
   ]
  },
  {
   "cell_type": "code",
   "execution_count": null,
   "id": "0851a1d9-7f32-4c55-acb2-2be5f1d6f6b2",
   "metadata": {},
   "outputs": [],
   "source": [
    "#Target CRS (EPSG:26915 – UTM Zone 15N)\n",
    "target_crs = “EPSG:26915”\n",
    "#Load the Port Arthur city boundary\n",
    "gdf = gpd.read_file(geopackage_file)\n",
    "print(f”Original City boundary CRS: {gdf.crs}”)\n",
    "#Reproject the city boundary to the target CRS\n"
   ]
  },
  {
   "cell_type": "code",
   "execution_count": null,
   "id": "fd7a7b7d-d4ca-4497-8858-9e2a6ab3bc8b",
   "metadata": {},
   "outputs": [],
   "source": [
    "if gdf.crs!=target_crs:\n",
    " gdf=gdf.to_crs(target_crs)\n",
    " print(f”City boundary reprojected to: {gdf.crs}”)\n",
    "#Reproject the DEM to the target CRS\n",
    "with rasterio.open(dem_file) as src:\n",
    " transform, width, height = calculate_Default_transform(\n",
    "  src.crs, target_crs, src.width, src.height, *src.bounds"
   ]
  },
  {
   "cell_type": "code",
   "execution_count": null,
   "id": "3f2816a1-4e72-471a-9812-0b00819098db",
   "metadata": {},
   "outputs": [],
   "source": [
    "kwargs = src.meta.copy()\n",
    " kwargs.update({\n",
    "  ‘crs’:target_crs,\n",
    "  ‘transform’:transform,\n",
    "  ‘width’:width,\n",
    "  ‘height’:height\n",
    " })"
   ]
  },
  {
   "cell_type": "code",
   "execution_count": null,
   "id": "df55a47e-3a0d-45c0-883f-8debc009cd7a",
   "metadata": {},
   "outputs": [],
   "source": [
    "with rasterio.open(reprojected_dem_file, ‘w’, **kwargs) as dst:\n",
    "  for i in range(1, src.count + 1):\n",
    "   reproject(\n",
    "    source=rasterio.band(src, i),\n",
    "    destination=rasterio.band(dst, i),\n",
    "    src_transform=src.transform,\n",
    "    src_crs=src.crs,\n",
    "    dst_transform=transform,\n",
    "    dst_crs=target_crs,\n",
    "    resampling=Resampling.nearest\n",
    "   )"
   ]
  },
  {
   "cell_type": "code",
   "execution_count": null,
   "id": "3a52da41-8466-4428-b793-741b71c88885",
   "metadata": {},
   "outputs": [],
   "source": [
    "print(f”DEM reprojected to: {target_cs}”)\n",
    "\n",
    "#Clip the DEM to the city boundary\n",
    "with rasterio.open(reprojected_dem_file) as src:\n",
    " shapes = [feature[“geometry’] for feature in gdf.iterfeatures()]\n",
    " clipped_dem, clipped_transform = mask(src, shapes, crop=True)\n",
    " clipped_dem = clipped_dem[0] #Extract the first raster band\n",
    " nodata_value = src.nodata"
   ]
  },
  {
   "cell_type": "code",
   "execution_count": null,
   "id": "88e62c55-a68f-472a-bc96-0b9cca781a3e",
   "metadata": {},
   "outputs": [],
   "source": [
    "#Mask NoData values\n",
    "valid_data = clipped_dem[clipped_dem!=nodata_value]\n",
    "#Find the lowest elevation\n",
    "lowest_elevation = np.min(valid_data)\n",
    "print(f”Lowest Elevation within city boundary: {lowest_elevation} meters”)\n",
    "#Find the row and column of the lowest elevation \n",
    "row, col = np.where(clipped_dem == lowest_elevation)"
   ]
  },
  {
   "cell_type": "code",
   "execution_count": null,
   "id": "a185ffbc-1654-4f9f-b5d8-e5e57927cb34",
   "metadata": {},
   "outputs": [],
   "source": [
    "#convert row and column to geographic coordinates\n",
    "lowest_point_x = clipped_transform[2] + col[0] * clipped_transform[0]\n",
    "lowest_point_y = clipped_transform[5] + row[0] * clipped_transform[4]\n",
    "print(f”Lowest Point Coordinates (UTM): ({lowest_point_x}, {lowest_point_y})”)"
   ]
  },
  {
   "cell_type": "code",
   "execution_count": null,
   "id": "cd2ba61c-cec3-41ca-9f8d-616322eaacb2",
   "metadata": {},
   "outputs": [],
   "source": [
    "#Plot the clipped DEM and the lowest point\n",
    "plt.figure(figsize=(10,8))\n",
    "plt.imshow(clipped_dem, cmap=’terrain’, extent=(\n",
    " clipped_transform[2],\n",
    " clipped_transform[2] + clipped_dem.shape[1]*clipped_transform[0],\n",
    " clipped_transform[5] + clipped_dem.shape[0]*clipped_transform[4],\n",
    " clipped_transform[5]\n",
    "))\n",
    "plt.scatter(lowest_point_x, lowest_point_y, color=’red’, label=’Lowest Point’, zorder=5)\n",
    "plt.colorbar(label=’Elevation (m)’)\n",
    "plt.xlabel(‘Easting (m)’)\n",
    "plt.ylabel(‘Northing (m)’)\n",
    "plt.title(‘Elevation Plot (Port Arthur City) with Lowest Point (Epsg:26915)’)\n",
    "plt.legend()\n",
    "plt.grid()\n",
    "plt.show()\n",
    "#File path for the large DEM\n",
    "dem_file = r”C:\\Users\\asidd\\Downloads\\Final Project\\BillFiles\\reprojected_dem.tif”\n",
    "#Initialize the grid\n",
    "grid=Grid.from_raster(dem_file, data_name=’dem’)\n",
    "dem=grid.read_raster(dem_file)"
   ]
  },
  {
   "cell_type": "code",
   "execution_count": null,
   "id": "5d02d111-2041-469c-b7fb-178139be5c13",
   "metadata": {},
   "outputs": [],
   "source": [
    "#plot DEM with defined color range\n",
    "plt.figure(figsize=(8, 6))\n",
    "plt.imshow(dem, extent=grid.extent, cmap=’terrain’, zorder=1, vmin=0, vmmax=dem.max())\n",
    "plt.colorbar(label=’Elevation (m)’)\n",
    "plt.title(‘Digital Elevation Map’, size=14)\n",
    "plt.xlabel(‘Longitude’)\n",
    "plt.ylabel(‘Latitude’)\n",
    "plt.grid()\n",
    "plt.tight_layout()\n",
    "plt.show()\n",
    "#Condition DEM\n",
    "#Fill pits in DEM\n",
    "pit_filled_dem=grid.fill_pits(dem)\n",
    "#Fill depressions in DEM\n",
    "flooded_dem = grid.fill_depressions(pit_filled_dem)\n",
    "#Resolve flats in DEM\n",
    "inflated_dem=grid.resolve_flats(flooded_dem)"
   ]
  },
  {
   "cell_type": "code",
   "execution_count": null,
   "id": "c1f6a0c5-5db6-4cea-8bf8-65d9beef5544",
   "metadata": {},
   "outputs": [],
   "source": [
    "#Determine D8 flow directions from DEM\n",
    "#Specify directional mapping\n",
    "dirmap=(64, 128, 1, 2, 4, 8, 16, 32)\n",
    "#Compute flow directions\n",
    "fdir=grid.flowdir(inflated_dem, dirmap=dirmap)\n",
    "\n",
    "fig = pl.figure(figsize=(12, 5))\n",
    "fig.patch.set_alpha(0)\n",
    "\n",
    "#Use a different colormap(plasma)\n",
    "plt.imshow(fdir, extent=grid.extent, cmap=’inferno’, zorder=2)\n",
    "boundaries = ([0] + sorted(list(dirmap)))\n",
    "plt.colorbar(boundaries=boundaries, values=sorted(dirmap))\n",
    "plt.xlabel(‘Longitude’)\n",
    "plt.ylabel(‘Latitude’)\n",
    "plt.title(‘Flow direction grid’, size=14)\n",
    "plt.grid(zorder=-1)\n",
    "plt.tight_layout()\n",
    "plt.show()\n",
    "#Calculate flow accumulation\n",
    "acc=grid.accumulation(fdir, dirmap=dirmap)\n",
    "\n",
    "#Assuming acc is the flow accumulation array and grid.extent is defined\n",
    "fig, ax=plt.subplots(figsize=(2, 5))\n",
    "fig.patch.set_alpha(0)\n",
    "plt.grid(‘on’, zorder=0)\n",
    "im=ax.imshow(\n",
    " acc,\n",
    " extent=grid.extent,\n",
    " zorder=2,\n",
    " cmap=’cubehelix’,\n",
    " norm=colors.LogNorm(1, acc.max()),\n",
    " interpolation=’bilinear’\n",
    ")\n",
    "plt.colorbar(im, ax=ax, label=’Upstream Cells’)\n",
    "plt.title(‘Flow Accumulation’, size=14)\n",
    "plt.xlabel(‘Longitude’)\n",
    "plt.ylabel(‘Latitude’)\n",
    "plt.tight_layout()\n",
    "plt.show()"
   ]
  },
  {
   "cell_type": "code",
   "execution_count": null,
   "id": "d45786e5-8f85-40e3-b0e1-11aababc9c47",
   "metadata": {},
   "outputs": [],
   "source": [
    "#Delineaten a catchment based on specify pour point(lowest Elevtion point of port Arthur City)\n",
    "x, y = 399471.3907732765, 3309123.150776909"
   ]
  },
  {
   "cell_type": "code",
   "execution_count": null,
   "id": "6ccbfe20-3c4c-48ac-b2cf-c1b413d09192",
   "metadata": {},
   "outputs": [],
   "source": [
    "#snap pour point to high accumulation cell\n",
    "x_snap, y_snap=grid.snap_to_mask(acc>1000, (x,y))\n",
    "#Delineate the catchment\n",
    "catch = grid.catchment(x=x_snap, y=y_snap, fdir=fdir, dirmap=dirmap, xytype=’coordnate’)\n",
    "\n",
    "#Clip the bounding box to the catchment\n",
    "grid.clip_to(catch)\n",
    "clipped_catch=grid.view(catch)\n",
    "\n",
    "#Plot the catchment (Larger and more detailed)\n",
    "plt.figure(figsize=(12,6)) #Increased figure size\n",
    "plt.imshow(\n",
    "np.where(clipped_Catch, clipped_catch, np.nan),\n",
    "extent=grid.extent, \n",
    "cmap=’Blues’, #Using a clearer colormap\n",
    "interpolation = ‘none’,\n",
    "zorder=10\n",
    ")\n",
    "plt.colorbar(label=’Catchment Area’, shrink=0.8)\n",
    "plt.title(‘Watershed Delineation’, fontsize=16)\n",
    "plt.xlabel(‘Longitude’, fontsize=12)\n",
    "plt.ylabel(‘Latitude’, fontsize=12)\n",
    "plt.grid(zorder=1, alpha=0.5)\n",
    "plt.tight_layout()\n",
    "plt.show()"
   ]
  },
  {
   "cell_type": "code",
   "execution_count": null,
   "id": "658f225f-4f5c-4d82-89cf-767edff3b20b",
   "metadata": {},
   "outputs": [],
   "source": [
    "#Extract river network\n",
    "branches=grid.extract_river_network(fdir, acc>100, dirmap=dirmap)\n",
    "\n",
    "#Set Seaborn color palette\n",
    "sns.set_palette(‘husl’)\n",
    "\n",
    "#create a plot\n",
    "fig, ax = plt.subplots(figsize=(8.5, 6.5))\n",
    "plt.xlim(grid.bbox[0], grid.bbox[2])\n",
    "plt.ylim(grid.bbox[1], grid.bbox[3])\n",
    "ax.set_Aspect(‘equal’)\n",
    "#Plot branches\n",
    "for branch in branches[‘features’]:\n",
    "line=np.asarray(branch[‘geometry’][‘coordinates’])\n",
    "plt.plot(line[:, 0], line[:, 1])\n",
    "\n",
    "#Add a title\n",
    "_=plt.title(‘D8 Channels’, size=14)\n",
    "#Show the plot\n",
    "plt.show()\n",
    "\n",
    "#Calculate distance to outlet from each cell\n",
    "dist=grid.distance_to_outlet(x=x_snap, y=y_snap, fdir=fdir, dirmap=dirmap, xytype=’coordinate’)\n",
    "fig, ax = plt.subplots(figsize(12, 5))\n",
    "fig.patch.set_alpha(0)\n",
    "plt.grid(‘on’, zorder=0)\n",
    "im= ax.imshow(dist, extent=grid.extent, zorder=2, cmap=’cubehelix_r’)\n",
    "plt.colorbar(im, ax=ax, label=’Distance to outlet (cells)’)\n",
    "plt.xlabel(‘Longitude’)\n",
    "plt.ylabel(‘Latitude’)\n",
    "plt.title(‘Flow Distance, size=14)\n",
    "#Calculate the area of a single cell in square meters\n",
    "cell area = 30.87*26.73\n",
    "#number of valid cells in catchment\n",
    "num_valid_cells=np.sum(clipped_catch>0)\n",
    "#total area in square meters\n",
    "total_are_m2=num_valid_cells*cell_area\n",
    "#convert to square kilometers\n",
    "total_area_km2=total_Area_m2/1e6\n",
    "print(f”Total Watershed area: {total_area_km2:.2f} m2 ({total_area_km2:.2f} km2)”)"
   ]
  }
 ],
 "metadata": {
  "kernelspec": {
   "display_name": "Python 3 (ipykernel)",
   "language": "python",
   "name": "python3"
  },
  "language_info": {
   "codemirror_mode": {
    "name": "ipython",
    "version": 3
   },
   "file_extension": ".py",
   "mimetype": "text/x-python",
   "name": "python",
   "nbconvert_exporter": "python",
   "pygments_lexer": "ipython3",
   "version": "3.12.4"
  }
 },
 "nbformat": 4,
 "nbformat_minor": 5
}
